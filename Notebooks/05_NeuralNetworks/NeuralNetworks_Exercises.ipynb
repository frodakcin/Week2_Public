{
 "cells": [
  {
   "cell_type": "markdown",
   "metadata": {
    "colab_type": "text",
    "id": "PlpG_fIiqdJU"
   },
   "source": [
    "# Neural Network Exercise\n",
    "\n",
    "In this Exercise Notebook you will be building your own artificial neural network and seeing how adding different types of layers can affect the validation/testing accuracy. This is based off of the Simple Neural Network with Keras tutorial, so you can reference that for further explanations as well."
   ]
  },
  {
   "cell_type": "code",
   "execution_count": 1,
   "metadata": {
    "colab": {},
    "colab_type": "code",
    "id": "eFSzOvSduDf8"
   },
   "outputs": [],
   "source": [
    "import os\n",
    "import matplotlib.pyplot as plt\n",
    "import pandas as pd\n",
    "from sklearn.preprocessing import StandardScaler\n",
    "from sklearn.utils import shuffle\n",
    "from keras.models import Sequential\n",
    "from keras.layers import Dense\n",
    "import tensorflow as tf"
   ]
  },
  {
   "cell_type": "code",
   "execution_count": 2,
   "metadata": {
    "colab": {},
    "colab_type": "code",
    "id": "Ep_09mlyqa5G"
   },
   "outputs": [],
   "source": [
    "# os.system('wget https://raw.githubusercontent.com/BeaverWorksMedlytics2020/Data_Public/master/NotebookExampleData/Week2/spoken_digit_manual_features.csv')\n",
    "spoken_digit_manual_features_path = \"./spoken_digit_manual_features.csv\""
   ]
  },
  {
   "cell_type": "markdown",
   "metadata": {
    "colab_type": "text",
    "id": "zChcGaqVysRB"
   },
   "source": [
    "## Load Training Data and Pre-processed Features\n",
    "\n",
    "Your goal is to build a neural network that learns to classify which of the 5 speakers is recorded in a signal sample. Your prediction will be based off of features we've already pre-extracted for you and put into this CSV: spectral centroid `SC`, spectral flatness `SF`, and maximum frequency `MF`."
   ]
  },
  {
   "cell_type": "code",
   "execution_count": 28,
   "metadata": {
    "colab": {},
    "colab_type": "code",
    "id": "SVwsmOGvw7jp"
   },
   "outputs": [
    {
     "name": "stdout",
     "output_type": "stream",
     "text": [
      "                file  digit   speaker  trial           SC        SF  \\\n",
      "0   5_yweweler_8.wav      5  yweweler      8  1029.497959  0.397336   \n",
      "1    3_george_49.wav      3    george      4  1881.296834  0.387050   \n",
      "2  9_yweweler_44.wav      9  yweweler      4  1093.951856  0.394981   \n",
      "3  8_yweweler_33.wav      8  yweweler      3  1409.543285  0.487496   \n",
      "4      7_theo_34.wav      7      theo      3   887.361601  0.396825   \n",
      "5   1_jackson_45.wav      1   jackson      4  1007.568129  0.324100   \n",
      "6  6_yweweler_18.wav      6  yweweler      1  1286.701352  0.498813   \n",
      "7    9_george_35.wav      9    george      3  1405.092061  0.353083   \n",
      "8   9_jackson_32.wav      9   jackson      3  1172.899961  0.477907   \n",
      "9    8_george_26.wav      8    george      2  1959.977577  0.462901   \n",
      "\n",
      "           MF  \n",
      "0  745.878340  \n",
      "1  323.943662  \n",
      "2  244.648318  \n",
      "3  392.350401  \n",
      "4  130.640309  \n",
      "5  216.306156  \n",
      "6  400.715564  \n",
      "7  447.239693  \n",
      "8  114.892780  \n",
      "9  320.537966  \n",
      "\n",
      "\n",
      "There are 5 unique speakers in the dataset\n"
     ]
    }
   ],
   "source": [
    "# Load csv containing raw data, labels, and pre-processed features\n",
    "spoken_df = pd.read_csv(spoken_digit_manual_features_path, index_col = 0)\n",
    "print(spoken_df.head(10))\n",
    "print('\\n')\n",
    "\n",
    "# Set speakers\n",
    "speakers = set(spoken_df['speaker'])\n",
    "print(f'There are {len(speakers)} unique speakers in the dataset')"
   ]
  },
  {
   "cell_type": "markdown",
   "metadata": {
    "colab_type": "text",
    "id": "mArY7lB4Akv1"
   },
   "source": [
    "Converting labels to \"onehot\" vectors:"
   ]
  },
  {
   "cell_type": "code",
   "execution_count": 29,
   "metadata": {
    "colab": {},
    "colab_type": "code",
    "id": "nLRtFkiYAc3N"
   },
   "outputs": [],
   "source": [
    "# Make dictionary to convert from speaker names to indices\n",
    "name2int_dict = {name: ind for (ind, name) in enumerate(set(spoken_df['speaker']))}\n",
    "\n",
    "y_labels = spoken_df['speaker']\n",
    "# Set y_labels to be indices of speaker\n",
    "y_labels = [name2int_dict[name] for name in y_labels]"
   ]
  },
  {
   "cell_type": "markdown",
   "metadata": {
    "colab_type": "text",
    "id": "xUhDZMw1A93D"
   },
   "source": [
    "Standardize data and split into train, validation, and test sets:"
   ]
  },
  {
   "cell_type": "code",
   "execution_count": 30,
   "metadata": {
    "colab": {},
    "colab_type": "code",
    "id": "TAuzw6ibA3Es"
   },
   "outputs": [],
   "source": [
    "# Downselect to only the 3 columns of the dataset we are learning from, aka the features\n",
    "X_data = spoken_df[['SC', 'SF', 'MF']].to_numpy()\n",
    "\n",
    "# Decide how large to make validation and test sets\n",
    "n_val = 250\n",
    "n_test = 250\n",
    "\n",
    "# Shuffle data before partitioning\n",
    "X_data, y_labels = shuffle(X_data, y_labels, random_state = 25)\n",
    "\n",
    "# Partition\n",
    "X_data_test, y_labels_test = X_data[:n_test,:], y_labels[:n_test]\n",
    "X_data_val, y_labels_val = X_data[n_test:n_test+n_val,:], y_labels[n_test:n_test+n_val]\n",
    "X_data_train, y_labels_train = X_data[n_test+n_val:,:], y_labels[n_test+n_val:]\n",
    "\n",
    "# Scale data\n",
    "scaler = StandardScaler()\n",
    "X_data_train=scaler.fit_transform(X_data_train)\n",
    "X_data_val = scaler.transform(X_data_val)\n",
    "X_data_test = scaler.transform(X_data_test)\n",
    "\n",
    "# Convert labels to onehot\n",
    "y_labels_train = tf.keras.utils.to_categorical(y_labels_train, 5)\n",
    "y_labels_val =  tf.keras.utils.to_categorical(y_labels_val, 5)\n",
    "y_labels_test =  tf.keras.utils.to_categorical(y_labels_test, 5)\n",
    "\n",
    "training_set = tf.data.Dataset.from_tensor_slices((X_data_train, y_labels_train))"
   ]
  },
  {
   "cell_type": "markdown",
   "metadata": {
    "colab_type": "text",
    "id": "riycN8SdyxNT"
   },
   "source": [
    "## Aditional Layers\n",
    "\n",
    "Before you get to writing your own neural network we'll show you some examples of additional layers you can potetially add that we didn't go over in the tutorial. After reading over our explanations/example code and going through documentation you'll be testing some of these out by putting together a neural network yourself."
   ]
  },
  {
   "cell_type": "markdown",
   "metadata": {
    "colab_type": "text",
    "id": "DoaZsqc3iEyv"
   },
   "source": [
    "### Dropout Layers\n",
    "\n",
    "Dropout layers randomly omit, or drop, some elements of the output vector from the layer, which helps prevent overfitting and can improve the generalization of your neural network. The dropout rate can be any number between 0 and 1.\n",
    "\n",
    "https://www.tensorflow.org/api_docs/python/tf/keras/layers/Dropout\n",
    "\n",
    "```python\n",
    "# Example\n",
    "d_r = 0.6\n",
    "tf.keras.layers.Dropout(rate=d_r)\n",
    "```"
   ]
  },
  {
   "cell_type": "markdown",
   "metadata": {
    "colab_type": "text",
    "id": "gVJMrZ09iUgk"
   },
   "source": [
    "### Pooling Layers\n",
    "\n",
    "A pooling layer reduces dimensionality (reducing the size of each feature map) and \"compresses\" information by combining several output elements. Two common functions used for pooling are:\n",
    "- Average pooling: calculating the average value for each patch on the feature map\n",
    "- Max pooling: calculating the maximum value for each patch of the feature map\n",
    "\n",
    "https://www.tensorflow.org/api_docs/python/tf/keras/layers/MaxPool1D\n",
    "\n",
    "```python\n",
    "# Example\n",
    "tf.keras.layers.MaxPool1D(pool_size=1)\n",
    "```"
   ]
  },
  {
   "cell_type": "markdown",
   "metadata": {
    "colab_type": "text",
    "id": "72ngF_beiaV9"
   },
   "source": [
    "### Activation Layers/Functions\n",
    "\n",
    "An activation function looks at each \"neuron\" in your neural network and determines whether it should be activated (fired) or not, based on the relevancy of the neuron's input to the model’s predictions. Some different activation functions you could look at are:\n",
    "- softmax https://www.tensorflow.org/api_docs/python/tf/keras/layers/Softmax\n",
    "- sigmoid https://www.tensorflow.org/api_docs/python/tf/keras/activations/sigmoid\n",
    "- softplus https://www.tensorflow.org/api_docs/python/tf/keras/activations/softplus\n",
    "- relu https://www.tensorflow.org/api_docs/python/tf/keras/layers/ReLU\n",
    "\n",
    "```python\n",
    "# Example\n",
    "tf.keras.layers.Softmax()\n",
    "```"
   ]
  },
  {
   "cell_type": "markdown",
   "metadata": {
    "colab_type": "text",
    "id": "zCdxM6HDqR1F"
   },
   "source": [
    "### Optimation Functions\n",
    "\n",
    "Optimation functions\n",
    "- Adam https://www.tensorflow.org/api_docs/python/tf/keras/optimizers/Adam\n",
    "  - Adam is computationally efficient, has little memory requirement, and is well suited for problems that are large in terms of data/parameter.\n",
    "- Adagrad https://www.tensorflow.org/api_docs/python/tf/keras/optimizers/Adagrad\n",
    "  - Adagrad is an optimizer that is best used for sparse data. Some of its benefits are that it converges more quickly and doesn't need manual adjustment of the hyperparameter \"learning rate\".\n",
    "- SGD https://www.tensorflow.org/api_docs/python/tf/keras/optimizers/SGD\n",
    "  - SGD is a stochastic gradient descent and momentum optimizer. SGD essentially helps gradient vectors move down loss functions towards the minimum point, leading to faster \"converging\".\n",
    "- RMSprop https://keras.io/api/optimizers/rmsprop/\n",
    "  - As you may already know, the learning rate regulates how much the model \n",
    "can change based on the estimated error (which occurs every time the model's weights are updated). Instead of treating the learning rate as a hyperparamter, RMSprop is an optimization technique that uses relies on a changing, adaptive learning rate.\n",
    "\n",
    "```python\n",
    "# Example code\n",
    "l_r = .001 \n",
    "tf.keras.optimizers.SGD(learning_rate=l_r)\n",
    "```"
   ]
  },
  {
   "cell_type": "markdown",
   "metadata": {
    "colab_type": "text",
    "id": "ldbularZ3cCW"
   },
   "source": [
    "## Putting Together Your Neural Network\n",
    "\n",
    "Now you will experiment with adding different layers to your neural network. We've added some guiding comments to give you a place to start and test out, but we also strongly encourage you to go through all the documetation and do some googling as well!"
   ]
  },
  {
   "cell_type": "code",
   "execution_count": 40,
   "metadata": {
    "colab": {},
    "colab_type": "code",
    "id": "qMp_z7W9vZV4"
   },
   "outputs": [],
   "source": [
    "# Once you've gone through all the tests play around with these rate alues to see if you can increase your accuracy\n",
    "l_r = .001 \n",
    "d_r = 0.6\n",
    "\n",
    "model = tf.keras.Sequential()\n",
    "model.add(tf.keras.layers.Dense(8, input_shape=(3,)))"
   ]
  },
  {
   "cell_type": "markdown",
   "metadata": {
    "colab_type": "text",
    "id": "8OQKRfNjBWGC"
   },
   "source": [
    "### Test 1"
   ]
  },
  {
   "cell_type": "code",
   "execution_count": 11,
   "metadata": {
    "colab": {},
    "colab_type": "code",
    "id": "BneaEDk-BWj2"
   },
   "outputs": [],
   "source": [
    "# Run this cell as it is\n",
    "model.add(tf.keras.layers.Dense(8))\n",
    "model.add(tf.keras.layers.Dense(8))\n",
    "\n",
    "# output dimension needs to be number of classes in order for each to get a score\n",
    "model.add(tf.keras.layers.Dense(5))\n",
    "\n",
    "# Now skip down to the section that compiles and trains your model and run those cells.\n",
    "# Check the pseudo-test accuracy and see how well the bare minimum performed."
   ]
  },
  {
   "cell_type": "markdown",
   "metadata": {
    "colab_type": "text",
    "id": "djwaQho7_xBt"
   },
   "source": [
    "### Test 2"
   ]
  },
  {
   "cell_type": "code",
   "execution_count": 15,
   "metadata": {
    "colab": {},
    "colab_type": "code",
    "id": "o2MQzNEa_ViW"
   },
   "outputs": [],
   "source": [
    "\n",
    "\n",
    "# Add activation layer here (softmax) [step 1]\n",
    "model.add(tf.keras.layers.Softmax())\n",
    "\n",
    "model.add(tf.keras.layers.Dense(8))\n",
    "\n",
    "# Add activation layer here (relu) [step 2]\n",
    "model.add(tf.keras.layers.ReLU())\n",
    "\n",
    "model.add(tf.keras.layers.Dense(8))\n",
    "\n",
    "# Add activation layer here (softmax) [step 3]\n",
    "model.add(tf.keras.layers.Softmax())\n",
    "\n",
    "\n",
    "# output dimension needs to be number of classes in order for each to get a score\n",
    "model.add(tf.keras.layers.Dense(5))\n",
    "\n",
    "# Now skip down to the section that compiles and trains your model and re-run those cells.\n",
    "# What do you notice about the testing/Validation accuracy after Test 2 in comparison to Test 1?"
   ]
  },
  {
   "cell_type": "markdown",
   "metadata": {
    "colab_type": "text",
    "id": "M_pr4L_0Bzt_"
   },
   "source": [
    "### Test 3"
   ]
  },
  {
   "cell_type": "code",
   "execution_count": 41,
   "metadata": {
    "colab": {},
    "colab_type": "code",
    "id": "pb-7sVYkB11c"
   },
   "outputs": [],
   "source": [
    "\n",
    "# Add dropout layer here (0.6 learning rate)\n",
    "model.add(tf.keras.layers.Dropout(rate=d_r, input_shape=(3,)))\n",
    "\n",
    "# Add activation layer here (softmax)\n",
    "model.add(tf.keras.layers.Softmax())\n",
    "\n",
    "model.add(tf.keras.layers.Dense(8))\n",
    "\n",
    "# Add activation layer here (relu)\n",
    "model.add(tf.keras.layers.ReLU())\n",
    "\n",
    "model.add(tf.keras.layers.Dense(8))\n",
    "\n",
    "# Add activation layer here (softmax)\n",
    "model.add(tf.keras.layers.Softmax())\n",
    "\n",
    "# output dimension needs to be number of classes in order for each to get a score\n",
    "model.add(tf.keras.layers.Dense(5))\n",
    "\n",
    "\n",
    "model.add(tf.keras.layers.Dense(5))\n",
    "\n",
    "# Now skip down to the section that compiles and trains your model and re-run those cells.\n",
    "# What do you notice about the testing/Validation accuracy after Test 2 in comparison to Test 1 & 2?"
   ]
  },
  {
   "cell_type": "markdown",
   "metadata": {
    "colab_type": "text",
    "id": "YwjD-MgMDHFV"
   },
   "source": [
    "### Test 4\n",
    "\n",
    "Now go back down to the cell where you compiled your model, and this time change the optimizer. It's been set to Adam by default but as we showed you above, there are other functions that you can test out. Try Adagrad, SGD, then RMSprop."
   ]
  },
  {
   "cell_type": "markdown",
   "metadata": {
    "colab_type": "text",
    "id": "Qhna7lr5Dm56"
   },
   "source": [
    "## Compiling and Training Your Model"
   ]
  },
  {
   "cell_type": "code",
   "execution_count": 42,
   "metadata": {
    "colab": {},
    "colab_type": "code",
    "id": "XB1qNpsoASGv"
   },
   "outputs": [],
   "source": [
    "model.compile(loss = tf.keras.losses.categorical_crossentropy, \n",
    "              optimizer = tf.keras.optimizers.Adam(learning_rate=l_r),\n",
    "              metrics = ['accuracy'])   "
   ]
  },
  {
   "cell_type": "markdown",
   "metadata": {
    "colab_type": "text",
    "id": "Tj1lwAY7BJPk"
   },
   "source": [
    "Fit Model to Data, Specify Number of Epochs and Batch Size:"
   ]
  },
  {
   "cell_type": "code",
   "execution_count": 43,
   "metadata": {
    "colab": {},
    "colab_type": "code",
    "id": "uF2RT0eGBIlD",
    "scrolled": false
   },
   "outputs": [
    {
     "name": "stdout",
     "output_type": "stream",
     "text": [
      "WARNING:tensorflow:Model was constructed with shape (None, 3) for input Tensor(\"dense_39_input:0\", shape=(None, 3), dtype=float32), but it was called on an input with incompatible shape (1, 20, 100, 3).\n",
      "WARNING:tensorflow:Model was constructed with shape (None, 3) for input Tensor(\"dense_39_input:0\", shape=(None, 3), dtype=float32), but it was called on an input with incompatible shape (1, 20, 100, 3).\n",
      "8/8 [==============================] - 0s 1ms/step - loss: 6.1687 - accuracy: 0.1480\n",
      "Epoch #1\t Training Loss: 6.88\tTraining Accuracy: 0.21\tValidation Loss: 6.17\tValidation Accuracy: 0.15\n",
      "8/8 [==============================] - 0s 960us/step - loss: 6.1052 - accuracy: 0.1480\n",
      "Epoch #2\t Training Loss: 6.17\tTraining Accuracy: 0.20\tValidation Loss: 6.11\tValidation Accuracy: 0.15\n",
      "8/8 [==============================] - 0s 1ms/step - loss: 6.0239 - accuracy: 0.1480\n",
      "Epoch #3\t Training Loss: 6.11\tTraining Accuracy: 0.20\tValidation Loss: 6.02\tValidation Accuracy: 0.15\n",
      "8/8 [==============================] - 0s 2ms/step - loss: 5.9545 - accuracy: 0.1480\n",
      "Epoch #4\t Training Loss: 6.03\tTraining Accuracy: 0.20\tValidation Loss: 5.95\tValidation Accuracy: 0.15\n",
      "8/8 [==============================] - 0s 2ms/step - loss: 5.9362 - accuracy: 0.1480\n",
      "Epoch #5\t Training Loss: 5.96\tTraining Accuracy: 0.20\tValidation Loss: 5.94\tValidation Accuracy: 0.15\n",
      "8/8 [==============================] - 0s 1ms/step - loss: 5.9961 - accuracy: 0.1480\n",
      "Epoch #6\t Training Loss: 5.94\tTraining Accuracy: 0.20\tValidation Loss: 6.00\tValidation Accuracy: 0.15\n",
      "8/8 [==============================] - 0s 1ms/step - loss: 7.9301 - accuracy: 0.1480\n",
      "Epoch #7\t Training Loss: 6.00\tTraining Accuracy: 0.20\tValidation Loss: 7.93\tValidation Accuracy: 0.15\n",
      "8/8 [==============================] - 0s 2ms/step - loss: 10.8958 - accuracy: 0.1480\n",
      "Epoch #8\t Training Loss: 7.93\tTraining Accuracy: 0.20\tValidation Loss: 10.90\tValidation Accuracy: 0.15\n",
      "8/8 [==============================] - 0s 3ms/step - loss: 10.6379 - accuracy: 0.1480\n",
      "Epoch #9\t Training Loss: 10.89\tTraining Accuracy: 0.20\tValidation Loss: 10.64\tValidation Accuracy: 0.15\n",
      "8/8 [==============================] - 0s 5ms/step - loss: 10.4445 - accuracy: 0.1480\n",
      "Epoch #10\t Training Loss: 10.63\tTraining Accuracy: 0.20\tValidation Loss: 10.44\tValidation Accuracy: 0.15\n",
      "8/8 [==============================] - 0s 1ms/step - loss: 10.1866 - accuracy: 0.1480\n",
      "Epoch #11\t Training Loss: 10.44\tTraining Accuracy: 0.20\tValidation Loss: 10.19\tValidation Accuracy: 0.15\n",
      "8/8 [==============================] - 0s 2ms/step - loss: 10.1866 - accuracy: 0.1480\n",
      "Epoch #12\t Training Loss: 10.18\tTraining Accuracy: 0.20\tValidation Loss: 10.19\tValidation Accuracy: 0.15\n",
      "8/8 [==============================] - 0s 2ms/step - loss: 10.1866 - accuracy: 0.1480\n",
      "Epoch #13\t Training Loss: 10.18\tTraining Accuracy: 0.20\tValidation Loss: 10.19\tValidation Accuracy: 0.15\n",
      "8/8 [==============================] - 0s 2ms/step - loss: 10.1866 - accuracy: 0.1480\n",
      "Epoch #14\t Training Loss: 10.18\tTraining Accuracy: 0.20\tValidation Loss: 10.19\tValidation Accuracy: 0.15\n",
      "8/8 [==============================] - 0s 2ms/step - loss: 10.1866 - accuracy: 0.1480\n",
      "Epoch #15\t Training Loss: 10.18\tTraining Accuracy: 0.20\tValidation Loss: 10.19\tValidation Accuracy: 0.15\n",
      "8/8 [==============================] - 0s 1ms/step - loss: 10.1866 - accuracy: 0.1480\n",
      "Epoch #16\t Training Loss: 10.18\tTraining Accuracy: 0.20\tValidation Loss: 10.19\tValidation Accuracy: 0.15\n",
      "8/8 [==============================] - 0s 1ms/step - loss: 10.1866 - accuracy: 0.1480\n",
      "Epoch #17\t Training Loss: 10.18\tTraining Accuracy: 0.20\tValidation Loss: 10.19\tValidation Accuracy: 0.15\n",
      "8/8 [==============================] - 0s 2ms/step - loss: 10.1866 - accuracy: 0.1480\n",
      "Epoch #18\t Training Loss: 10.18\tTraining Accuracy: 0.20\tValidation Loss: 10.19\tValidation Accuracy: 0.15\n",
      "8/8 [==============================] - 0s 5ms/step - loss: 10.1866 - accuracy: 0.1480\n",
      "Epoch #19\t Training Loss: 10.18\tTraining Accuracy: 0.20\tValidation Loss: 10.19\tValidation Accuracy: 0.15\n",
      "8/8 [==============================] - 0s 2ms/step - loss: 10.1866 - accuracy: 0.1480\n",
      "Epoch #20\t Training Loss: 10.18\tTraining Accuracy: 0.20\tValidation Loss: 10.19\tValidation Accuracy: 0.15\n",
      "8/8 [==============================] - 0s 2ms/step - loss: 10.1866 - accuracy: 0.1480\n",
      "Epoch #21\t Training Loss: 10.18\tTraining Accuracy: 0.20\tValidation Loss: 10.19\tValidation Accuracy: 0.15\n",
      "8/8 [==============================] - 0s 1ms/step - loss: 10.1866 - accuracy: 0.1480\n",
      "Epoch #22\t Training Loss: 10.18\tTraining Accuracy: 0.20\tValidation Loss: 10.19\tValidation Accuracy: 0.15\n",
      "8/8 [==============================] - 0s 1ms/step - loss: 10.1866 - accuracy: 0.1480\n",
      "Epoch #23\t Training Loss: 10.18\tTraining Accuracy: 0.20\tValidation Loss: 10.19\tValidation Accuracy: 0.15\n",
      "8/8 [==============================] - 0s 1ms/step - loss: 10.1866 - accuracy: 0.1480\n",
      "Epoch #24\t Training Loss: 10.18\tTraining Accuracy: 0.20\tValidation Loss: 10.19\tValidation Accuracy: 0.15\n",
      "8/8 [==============================] - 0s 1ms/step - loss: 10.1866 - accuracy: 0.1480\n",
      "Epoch #25\t Training Loss: 10.18\tTraining Accuracy: 0.20\tValidation Loss: 10.19\tValidation Accuracy: 0.15\n",
      "8/8 [==============================] - 0s 2ms/step - loss: 10.1866 - accuracy: 0.1480\n",
      "Epoch #26\t Training Loss: 10.18\tTraining Accuracy: 0.20\tValidation Loss: 10.19\tValidation Accuracy: 0.15\n",
      "8/8 [==============================] - 0s 1ms/step - loss: 10.1866 - accuracy: 0.1480\n",
      "Epoch #27\t Training Loss: 10.18\tTraining Accuracy: 0.20\tValidation Loss: 10.19\tValidation Accuracy: 0.15\n",
      "8/8 [==============================] - 0s 1ms/step - loss: 10.1866 - accuracy: 0.1480\n",
      "Epoch #28\t Training Loss: 10.18\tTraining Accuracy: 0.20\tValidation Loss: 10.19\tValidation Accuracy: 0.15\n",
      "8/8 [==============================] - 0s 1ms/step - loss: 10.1866 - accuracy: 0.1480\n",
      "Epoch #29\t Training Loss: 10.18\tTraining Accuracy: 0.20\tValidation Loss: 10.19\tValidation Accuracy: 0.15\n",
      "8/8 [==============================] - 0s 1ms/step - loss: 10.1866 - accuracy: 0.1480\n",
      "Epoch #30\t Training Loss: 10.18\tTraining Accuracy: 0.20\tValidation Loss: 10.19\tValidation Accuracy: 0.15\n",
      "8/8 [==============================] - 0s 2ms/step - loss: 10.1866 - accuracy: 0.1480\n",
      "Epoch #31\t Training Loss: 10.18\tTraining Accuracy: 0.20\tValidation Loss: 10.19\tValidation Accuracy: 0.15\n",
      "8/8 [==============================] - 0s 1ms/step - loss: 10.1866 - accuracy: 0.1480\n",
      "Epoch #32\t Training Loss: 10.18\tTraining Accuracy: 0.20\tValidation Loss: 10.19\tValidation Accuracy: 0.15\n",
      "8/8 [==============================] - 0s 2ms/step - loss: 10.1866 - accuracy: 0.1480\n",
      "Epoch #33\t Training Loss: 10.18\tTraining Accuracy: 0.20\tValidation Loss: 10.19\tValidation Accuracy: 0.15\n",
      "8/8 [==============================] - 0s 2ms/step - loss: 10.1866 - accuracy: 0.1480\n",
      "Epoch #34\t Training Loss: 10.18\tTraining Accuracy: 0.20\tValidation Loss: 10.19\tValidation Accuracy: 0.15\n",
      "8/8 [==============================] - 0s 1ms/step - loss: 10.1866 - accuracy: 0.1480\n",
      "Epoch #35\t Training Loss: 10.18\tTraining Accuracy: 0.20\tValidation Loss: 10.19\tValidation Accuracy: 0.15\n",
      "8/8 [==============================] - 0s 2ms/step - loss: 10.1866 - accuracy: 0.1480\n",
      "Epoch #36\t Training Loss: 10.18\tTraining Accuracy: 0.20\tValidation Loss: 10.19\tValidation Accuracy: 0.15\n",
      "8/8 [==============================] - 0s 2ms/step - loss: 10.1866 - accuracy: 0.1480\n",
      "Epoch #37\t Training Loss: 10.18\tTraining Accuracy: 0.20\tValidation Loss: 10.19\tValidation Accuracy: 0.15\n",
      "8/8 [==============================] - 0s 1ms/step - loss: 10.1866 - accuracy: 0.1480\n",
      "Epoch #38\t Training Loss: 10.18\tTraining Accuracy: 0.20\tValidation Loss: 10.19\tValidation Accuracy: 0.15\n",
      "8/8 [==============================] - 0s 2ms/step - loss: 10.1866 - accuracy: 0.1480\n",
      "Epoch #39\t Training Loss: 10.18\tTraining Accuracy: 0.20\tValidation Loss: 10.19\tValidation Accuracy: 0.15\n",
      "8/8 [==============================] - 0s 1ms/step - loss: 10.1866 - accuracy: 0.1480\n",
      "Epoch #40\t Training Loss: 10.18\tTraining Accuracy: 0.20\tValidation Loss: 10.19\tValidation Accuracy: 0.15\n",
      "8/8 [==============================] - 0s 1ms/step - loss: 10.1866 - accuracy: 0.1480\n",
      "Epoch #41\t Training Loss: 10.18\tTraining Accuracy: 0.20\tValidation Loss: 10.19\tValidation Accuracy: 0.15\n"
     ]
    },
    {
     "name": "stdout",
     "output_type": "stream",
     "text": [
      "8/8 [==============================] - 0s 1ms/step - loss: 10.1866 - accuracy: 0.1480\n",
      "Epoch #42\t Training Loss: 10.18\tTraining Accuracy: 0.20\tValidation Loss: 10.19\tValidation Accuracy: 0.15\n",
      "8/8 [==============================] - 0s 1ms/step - loss: 10.1866 - accuracy: 0.1480\n",
      "Epoch #43\t Training Loss: 10.18\tTraining Accuracy: 0.20\tValidation Loss: 10.19\tValidation Accuracy: 0.15\n",
      "8/8 [==============================] - 0s 1ms/step - loss: 10.1866 - accuracy: 0.1480\n",
      "Epoch #44\t Training Loss: 10.18\tTraining Accuracy: 0.20\tValidation Loss: 10.19\tValidation Accuracy: 0.15\n",
      "8/8 [==============================] - 0s 1ms/step - loss: 10.1866 - accuracy: 0.1480\n",
      "Epoch #45\t Training Loss: 10.18\tTraining Accuracy: 0.20\tValidation Loss: 10.19\tValidation Accuracy: 0.15\n",
      "8/8 [==============================] - 0s 1ms/step - loss: 10.1866 - accuracy: 0.1480\n",
      "Epoch #46\t Training Loss: 10.18\tTraining Accuracy: 0.20\tValidation Loss: 10.19\tValidation Accuracy: 0.15\n",
      "8/8 [==============================] - 0s 1ms/step - loss: 10.1866 - accuracy: 0.1480\n",
      "Epoch #47\t Training Loss: 10.18\tTraining Accuracy: 0.20\tValidation Loss: 10.19\tValidation Accuracy: 0.15\n",
      "8/8 [==============================] - 0s 1ms/step - loss: 10.1866 - accuracy: 0.1480\n",
      "Epoch #48\t Training Loss: 10.18\tTraining Accuracy: 0.20\tValidation Loss: 10.19\tValidation Accuracy: 0.15\n",
      "8/8 [==============================] - 0s 996us/step - loss: 10.1866 - accuracy: 0.1480\n",
      "Epoch #49\t Training Loss: 10.18\tTraining Accuracy: 0.20\tValidation Loss: 10.19\tValidation Accuracy: 0.15\n",
      "8/8 [==============================] - 0s 1ms/step - loss: 10.1866 - accuracy: 0.1480\n",
      "Epoch #50\t Training Loss: 10.18\tTraining Accuracy: 0.20\tValidation Loss: 10.19\tValidation Accuracy: 0.15\n",
      "8/8 [==============================] - 0s 3ms/step - loss: 10.1866 - accuracy: 0.1480\n",
      "Epoch #51\t Training Loss: 10.18\tTraining Accuracy: 0.20\tValidation Loss: 10.19\tValidation Accuracy: 0.15\n",
      "8/8 [==============================] - 0s 1ms/step - loss: 10.1866 - accuracy: 0.1480\n",
      "Epoch #52\t Training Loss: 10.18\tTraining Accuracy: 0.20\tValidation Loss: 10.19\tValidation Accuracy: 0.15\n",
      "8/8 [==============================] - 0s 2ms/step - loss: 10.1866 - accuracy: 0.1480\n",
      "Epoch #53\t Training Loss: 10.18\tTraining Accuracy: 0.20\tValidation Loss: 10.19\tValidation Accuracy: 0.15\n",
      "8/8 [==============================] - 0s 1ms/step - loss: 10.1866 - accuracy: 0.1480\n",
      "Epoch #54\t Training Loss: 10.18\tTraining Accuracy: 0.20\tValidation Loss: 10.19\tValidation Accuracy: 0.15\n",
      "8/8 [==============================] - 0s 2ms/step - loss: 10.1866 - accuracy: 0.1480\n",
      "Epoch #55\t Training Loss: 10.18\tTraining Accuracy: 0.20\tValidation Loss: 10.19\tValidation Accuracy: 0.15\n",
      "8/8 [==============================] - 0s 1ms/step - loss: 10.1866 - accuracy: 0.1480\n",
      "Epoch #56\t Training Loss: 10.18\tTraining Accuracy: 0.20\tValidation Loss: 10.19\tValidation Accuracy: 0.15\n",
      "8/8 [==============================] - 0s 1ms/step - loss: 10.1866 - accuracy: 0.1480\n",
      "Epoch #57\t Training Loss: 10.18\tTraining Accuracy: 0.20\tValidation Loss: 10.19\tValidation Accuracy: 0.15\n",
      "8/8 [==============================] - 0s 1ms/step - loss: 10.1866 - accuracy: 0.1480\n",
      "Epoch #58\t Training Loss: 10.18\tTraining Accuracy: 0.20\tValidation Loss: 10.19\tValidation Accuracy: 0.15\n",
      "8/8 [==============================] - 0s 1ms/step - loss: 10.1866 - accuracy: 0.1480\n",
      "Epoch #59\t Training Loss: 10.18\tTraining Accuracy: 0.20\tValidation Loss: 10.19\tValidation Accuracy: 0.15\n",
      "8/8 [==============================] - 0s 1ms/step - loss: 10.1866 - accuracy: 0.1480\n",
      "Epoch #60\t Training Loss: 10.18\tTraining Accuracy: 0.20\tValidation Loss: 10.19\tValidation Accuracy: 0.15\n",
      "8/8 [==============================] - 0s 1ms/step - loss: 10.1866 - accuracy: 0.1480\n",
      "Epoch #61\t Training Loss: 10.18\tTraining Accuracy: 0.20\tValidation Loss: 10.19\tValidation Accuracy: 0.15\n",
      "8/8 [==============================] - 0s 2ms/step - loss: 10.1866 - accuracy: 0.1480\n",
      "Epoch #62\t Training Loss: 10.18\tTraining Accuracy: 0.20\tValidation Loss: 10.19\tValidation Accuracy: 0.15\n",
      "8/8 [==============================] - 0s 1ms/step - loss: 10.1866 - accuracy: 0.1480\n",
      "Epoch #63\t Training Loss: 10.18\tTraining Accuracy: 0.20\tValidation Loss: 10.19\tValidation Accuracy: 0.15\n",
      "8/8 [==============================] - 0s 2ms/step - loss: 10.1866 - accuracy: 0.1480\n",
      "Epoch #64\t Training Loss: 10.18\tTraining Accuracy: 0.20\tValidation Loss: 10.19\tValidation Accuracy: 0.15\n",
      "8/8 [==============================] - 0s 1ms/step - loss: 10.1866 - accuracy: 0.1480\n",
      "Epoch #65\t Training Loss: 10.18\tTraining Accuracy: 0.20\tValidation Loss: 10.19\tValidation Accuracy: 0.15\n",
      "8/8 [==============================] - 0s 2ms/step - loss: 10.1866 - accuracy: 0.1480\n",
      "Epoch #66\t Training Loss: 10.18\tTraining Accuracy: 0.20\tValidation Loss: 10.19\tValidation Accuracy: 0.15\n",
      "8/8 [==============================] - 0s 1ms/step - loss: 10.1866 - accuracy: 0.1480\n",
      "Epoch #67\t Training Loss: 10.18\tTraining Accuracy: 0.20\tValidation Loss: 10.19\tValidation Accuracy: 0.15\n",
      "8/8 [==============================] - 0s 1ms/step - loss: 10.1866 - accuracy: 0.1480\n",
      "Epoch #68\t Training Loss: 10.18\tTraining Accuracy: 0.20\tValidation Loss: 10.19\tValidation Accuracy: 0.15\n",
      "8/8 [==============================] - 0s 1ms/step - loss: 10.1866 - accuracy: 0.1480\n",
      "Epoch #69\t Training Loss: 10.18\tTraining Accuracy: 0.20\tValidation Loss: 10.19\tValidation Accuracy: 0.15\n",
      "8/8 [==============================] - 0s 1ms/step - loss: 10.1866 - accuracy: 0.1480\n",
      "Epoch #70\t Training Loss: 10.18\tTraining Accuracy: 0.20\tValidation Loss: 10.19\tValidation Accuracy: 0.15\n",
      "8/8 [==============================] - 0s 1ms/step - loss: 10.1866 - accuracy: 0.1480\n",
      "Epoch #71\t Training Loss: 10.18\tTraining Accuracy: 0.20\tValidation Loss: 10.19\tValidation Accuracy: 0.15\n",
      "8/8 [==============================] - 0s 2ms/step - loss: 10.1866 - accuracy: 0.1480\n",
      "Epoch #72\t Training Loss: 10.18\tTraining Accuracy: 0.20\tValidation Loss: 10.19\tValidation Accuracy: 0.15\n",
      "8/8 [==============================] - 0s 1ms/step - loss: 10.1866 - accuracy: 0.1480\n",
      "Epoch #73\t Training Loss: 10.18\tTraining Accuracy: 0.20\tValidation Loss: 10.19\tValidation Accuracy: 0.15\n",
      "8/8 [==============================] - 0s 1ms/step - loss: 10.1866 - accuracy: 0.1480\n",
      "Epoch #74\t Training Loss: 10.18\tTraining Accuracy: 0.20\tValidation Loss: 10.19\tValidation Accuracy: 0.15\n",
      "8/8 [==============================] - 0s 1ms/step - loss: 10.1866 - accuracy: 0.1480\n",
      "Epoch #75\t Training Loss: 10.18\tTraining Accuracy: 0.20\tValidation Loss: 10.19\tValidation Accuracy: 0.15\n",
      "8/8 [==============================] - 0s 1ms/step - loss: 10.1866 - accuracy: 0.1480\n",
      "Epoch #76\t Training Loss: 10.18\tTraining Accuracy: 0.20\tValidation Loss: 10.19\tValidation Accuracy: 0.15\n",
      "8/8 [==============================] - 0s 1ms/step - loss: 10.1866 - accuracy: 0.1480\n",
      "Epoch #77\t Training Loss: 10.18\tTraining Accuracy: 0.20\tValidation Loss: 10.19\tValidation Accuracy: 0.15\n",
      "8/8 [==============================] - 0s 1ms/step - loss: 10.1866 - accuracy: 0.1480\n",
      "Epoch #78\t Training Loss: 10.18\tTraining Accuracy: 0.20\tValidation Loss: 10.19\tValidation Accuracy: 0.15\n",
      "8/8 [==============================] - 0s 1ms/step - loss: 10.1866 - accuracy: 0.1480\n",
      "Epoch #79\t Training Loss: 10.18\tTraining Accuracy: 0.20\tValidation Loss: 10.19\tValidation Accuracy: 0.15\n",
      "8/8 [==============================] - 0s 2ms/step - loss: 10.1866 - accuracy: 0.1480\n",
      "Epoch #80\t Training Loss: 10.18\tTraining Accuracy: 0.20\tValidation Loss: 10.19\tValidation Accuracy: 0.15\n",
      "8/8 [==============================] - 0s 2ms/step - loss: 10.1866 - accuracy: 0.1480\n",
      "Epoch #81\t Training Loss: 10.18\tTraining Accuracy: 0.20\tValidation Loss: 10.19\tValidation Accuracy: 0.15\n",
      "8/8 [==============================] - 0s 1ms/step - loss: 10.1866 - accuracy: 0.1480\n",
      "Epoch #82\t Training Loss: 10.18\tTraining Accuracy: 0.20\tValidation Loss: 10.19\tValidation Accuracy: 0.15\n",
      "8/8 [==============================] - 0s 1ms/step - loss: 10.1866 - accuracy: 0.1480\n",
      "Epoch #83\t Training Loss: 10.18\tTraining Accuracy: 0.20\tValidation Loss: 10.19\tValidation Accuracy: 0.15\n",
      "8/8 [==============================] - 0s 2ms/step - loss: 10.1866 - accuracy: 0.1480\n",
      "Epoch #84\t Training Loss: 10.18\tTraining Accuracy: 0.20\tValidation Loss: 10.19\tValidation Accuracy: 0.15\n"
     ]
    },
    {
     "name": "stdout",
     "output_type": "stream",
     "text": [
      "8/8 [==============================] - 0s 2ms/step - loss: 10.1866 - accuracy: 0.1480\n",
      "Epoch #85\t Training Loss: 10.18\tTraining Accuracy: 0.20\tValidation Loss: 10.19\tValidation Accuracy: 0.15\n",
      "8/8 [==============================] - 0s 2ms/step - loss: 10.1866 - accuracy: 0.1480\n",
      "Epoch #86\t Training Loss: 10.18\tTraining Accuracy: 0.20\tValidation Loss: 10.19\tValidation Accuracy: 0.15\n",
      "8/8 [==============================] - 0s 1ms/step - loss: 10.1866 - accuracy: 0.1480\n",
      "Epoch #87\t Training Loss: 10.18\tTraining Accuracy: 0.20\tValidation Loss: 10.19\tValidation Accuracy: 0.15\n",
      "8/8 [==============================] - 0s 2ms/step - loss: 10.1866 - accuracy: 0.1480\n",
      "Epoch #88\t Training Loss: 10.18\tTraining Accuracy: 0.20\tValidation Loss: 10.19\tValidation Accuracy: 0.15\n",
      "8/8 [==============================] - 0s 1ms/step - loss: 10.1866 - accuracy: 0.1480\n",
      "Epoch #89\t Training Loss: 10.18\tTraining Accuracy: 0.20\tValidation Loss: 10.19\tValidation Accuracy: 0.15\n",
      "8/8 [==============================] - 0s 2ms/step - loss: 10.1866 - accuracy: 0.1480\n",
      "Epoch #90\t Training Loss: 10.18\tTraining Accuracy: 0.20\tValidation Loss: 10.19\tValidation Accuracy: 0.15\n",
      "8/8 [==============================] - 0s 2ms/step - loss: 10.1866 - accuracy: 0.1480\n",
      "Epoch #91\t Training Loss: 10.18\tTraining Accuracy: 0.20\tValidation Loss: 10.19\tValidation Accuracy: 0.15\n",
      "8/8 [==============================] - 0s 2ms/step - loss: 10.1866 - accuracy: 0.1480\n",
      "Epoch #92\t Training Loss: 10.18\tTraining Accuracy: 0.20\tValidation Loss: 10.19\tValidation Accuracy: 0.15\n",
      "8/8 [==============================] - 0s 2ms/step - loss: 10.1866 - accuracy: 0.1480\n",
      "Epoch #93\t Training Loss: 10.18\tTraining Accuracy: 0.20\tValidation Loss: 10.19\tValidation Accuracy: 0.15\n",
      "8/8 [==============================] - 0s 2ms/step - loss: 10.1866 - accuracy: 0.1480\n",
      "Epoch #94\t Training Loss: 10.18\tTraining Accuracy: 0.20\tValidation Loss: 10.19\tValidation Accuracy: 0.15\n",
      "8/8 [==============================] - 0s 1ms/step - loss: 10.1866 - accuracy: 0.1480\n",
      "Epoch #95\t Training Loss: 10.18\tTraining Accuracy: 0.20\tValidation Loss: 10.19\tValidation Accuracy: 0.15\n",
      "8/8 [==============================] - 0s 2ms/step - loss: 10.1866 - accuracy: 0.1480\n",
      "Epoch #96\t Training Loss: 10.18\tTraining Accuracy: 0.20\tValidation Loss: 10.19\tValidation Accuracy: 0.15\n",
      "8/8 [==============================] - 0s 2ms/step - loss: 10.1866 - accuracy: 0.1480\n",
      "Epoch #97\t Training Loss: 10.18\tTraining Accuracy: 0.20\tValidation Loss: 10.19\tValidation Accuracy: 0.15\n",
      "8/8 [==============================] - 0s 2ms/step - loss: 10.1866 - accuracy: 0.1480\n",
      "Epoch #98\t Training Loss: 10.18\tTraining Accuracy: 0.20\tValidation Loss: 10.19\tValidation Accuracy: 0.15\n",
      "8/8 [==============================] - 0s 1ms/step - loss: 10.1866 - accuracy: 0.1480\n",
      "Epoch #99\t Training Loss: 10.18\tTraining Accuracy: 0.20\tValidation Loss: 10.19\tValidation Accuracy: 0.15\n",
      "8/8 [==============================] - 0s 1ms/step - loss: 10.1866 - accuracy: 0.1480\n",
      "Epoch #100\t Training Loss: 10.18\tTraining Accuracy: 0.20\tValidation Loss: 10.19\tValidation Accuracy: 0.15\n"
     ]
    }
   ],
   "source": [
    "EPOCHS = 100\n",
    "batch_size = 100\n",
    "\n",
    "training_set = training_set.batch(batch_size) #set batch size\n",
    "\n",
    "for epoch in range(EPOCHS):\n",
    "    for signals, labels in training_set:\n",
    "        tr_loss, tr_accuracy = model.train_on_batch(signals, labels)\n",
    "    val_loss, val_accuracy = model.evaluate(X_data_val, y_labels_val)\n",
    "    print(('Epoch #%d\\t Training Loss: %.2f\\tTraining Accuracy: %.2f\\t'\n",
    "         'Validation Loss: %.2f\\tValidation Accuracy: %.2f')\n",
    "         % (epoch + 1, tr_loss, tr_accuracy,\n",
    "         val_loss, val_accuracy))"
   ]
  },
  {
   "cell_type": "code",
   "execution_count": 44,
   "metadata": {
    "colab": {},
    "colab_type": "code",
    "id": "4GipGyEkBQdj"
   },
   "outputs": [
    {
     "name": "stdout",
     "output_type": "stream",
     "text": [
      "8/8 [==============================] - 0s 2ms/step - loss: 10.3801 - accuracy: 0.1800\n"
     ]
    }
   ],
   "source": [
    "#Check Performance on Test Set\n",
    "test_loss, test_accuracy = model.evaluate(X_data_test, y_labels_test)"
   ]
  },
  {
   "cell_type": "markdown",
   "metadata": {
    "colab_type": "text",
    "id": "maTNvEQpbkoS"
   },
   "source": [
    "Now modify the existing model even more, and try to find the highest and appropriate testing and validation accuracy!"
   ]
  }
 ],
 "metadata": {
  "colab": {
   "collapsed_sections": [],
   "name": "NeuralNetworks_Exercises.ipynb",
   "provenance": []
  },
  "kernelspec": {
   "display_name": "Python 3",
   "language": "python",
   "name": "python3"
  },
  "language_info": {
   "codemirror_mode": {
    "name": "ipython",
    "version": 3
   },
   "file_extension": ".py",
   "mimetype": "text/x-python",
   "name": "python",
   "nbconvert_exporter": "python",
   "pygments_lexer": "ipython3",
   "version": "3.7.7"
  }
 },
 "nbformat": 4,
 "nbformat_minor": 1
}
